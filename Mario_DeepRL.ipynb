{
  "nbformat": 4,
  "nbformat_minor": 0,
  "metadata": {
    "accelerator": "GPU",
    "colab": {
      "name": "Mario_DeepRL.ipynb",
      "provenance": [],
      "collapsed_sections": [
        "FCSkgbb1-UJ8",
        "gqlfdiRknwtl",
        "xr07pe40oNmB"
      ]
    },
    "kernelspec": {
      "display_name": "Python 3",
      "name": "python3"
    }
  },
  "cells": [
    {
      "cell_type": "markdown",
      "metadata": {
        "id": "73u40Lit0vZN"
      },
      "source": [
        "# Deep Reinforcement Learning Mario\n",
        "This notebook goes through implementing and comparing the performance of several Deep Reinforcement Learning agents playing Mario Super Smash Bros. It includes the DDQN and Dueling DDQN agents. \n",
        "\n",
        "A simple environment [CartPole](https://gym.openai.com/envs/CartPole-v0/) is used to verify the correctness of agent implementations. \n",
        "\n",
        "**Choose the environment:**"
      ]
    },
    {
      "cell_type": "code",
      "metadata": {
        "id": "KgsO8XDyDWSb"
      },
      "source": [
        "# Choose one:\n",
        "mario_env_name = \"Mario\"\n",
        "cartpole_env_name = \"CartPole\"\n",
        "\n",
        "env_name = cartpole_env_name"
      ],
      "execution_count": 1,
      "outputs": []
    },
    {
      "cell_type": "markdown",
      "metadata": {
        "id": "Wtvk_qD-DXg8"
      },
      "source": [
        "## First, dependencies\n",
        "Packages for rendering gym environment from the remote server where the notebook is executed. It will capture a video of the gym there and display it inline. "
      ]
    },
    {
      "cell_type": "code",
      "metadata": {
        "id": "0bk0YefW9iEW"
      },
      "source": [
        "#remove \" > /dev/null 2>&1\" to see what is going on under the hood\n",
        "!pip install pyvirtualdisplay > /dev/null 2>&1\n",
        "!apt-get install -y xvfb python-opengl ffmpeg > /dev/null 2>&1"
      ],
      "execution_count": 2,
      "outputs": []
    },
    {
      "cell_type": "code",
      "metadata": {
        "id": "B5J32s8ykmBx"
      },
      "source": [
        "import glob\n",
        "import io\n",
        "import base64\n",
        "from IPython.display import HTML\n",
        "from IPython import display as ipythondisplay\n",
        "from PIL import Image\n",
        "\n",
        "import matplotlib\n",
        "import matplotlib.pyplot as plt\n",
        "%matplotlib inline"
      ],
      "execution_count": 3,
      "outputs": []
    },
    {
      "cell_type": "code",
      "metadata": {
        "colab": {
          "base_uri": "https://localhost:8080/"
        },
        "id": "QuikPb8GRDTk",
        "outputId": "f3f6bd0f-731d-4541-b2f5-42f3635536fc"
      },
      "source": [
        "from pyvirtualdisplay import Display\n",
        "display = Display(visible=0, size=(1400, 900))\n",
        "display.start()"
      ],
      "execution_count": 4,
      "outputs": [
        {
          "output_type": "execute_result",
          "data": {
            "text/plain": [
              "<Display cmd_param=['Xvfb', '-br', '-nolisten', 'tcp', '-screen', '0', '1400x900x24', ':1025'] cmd=['Xvfb', '-br', '-nolisten', 'tcp', '-screen', '0', '1400x900x24', ':1025'] oserror=None return_code=None stdout=\"None\" stderr=\"None\" timeout_happened=False>"
            ]
          },
          "metadata": {
            "tags": []
          },
          "execution_count": 4
        }
      ]
    },
    {
      "cell_type": "markdown",
      "metadata": {
        "id": "f5-ams6ajN2k"
      },
      "source": [
        "Gym packages including CartPole and Mario."
      ]
    },
    {
      "cell_type": "code",
      "metadata": {
        "id": "UudtlqaXkewo"
      },
      "source": [
        "!pip install gym gym-super-mario-bros > /dev/null 2>&1"
      ],
      "execution_count": 5,
      "outputs": []
    },
    {
      "cell_type": "code",
      "metadata": {
        "id": "rv01IOVr_hdw"
      },
      "source": [
        "# This cell is temporary. It is needed to get the DQN example from PyTorch to work\n",
        "\n",
        "%%bash\n",
        "\n",
        "# install required system dependencies\n",
        "apt-get install -y xvfb x11-utils > /dev/null 2>&1\n",
        "\n",
        "# install required python dependencies (might need to install additional gym extras depending)\n",
        "pip install gym[box2d]==0.17.* pyvirtualdisplay==0.2.* PyOpenGL==3.1.* PyOpenGL-accelerate==3.1.* > /dev/null 2>&1"
      ],
      "execution_count": 6,
      "outputs": []
    },
    {
      "cell_type": "code",
      "metadata": {
        "id": "BkTp2dG4AtUh"
      },
      "source": [
        "import pyvirtualdisplay\n",
        "\n",
        "display = pyvirtualdisplay.Display(visible=False,  # use False with Xvfb\n",
        "                                    size=(1400, 900))\n",
        "_ = display.start()"
      ],
      "execution_count": 7,
      "outputs": []
    },
    {
      "cell_type": "code",
      "metadata": {
        "id": "7atF3rRes283"
      },
      "source": [
        "import gym\n",
        "from gym import logger as gymlogger\n",
        "from gym.wrappers import Monitor\n",
        "gymlogger.set_level(40) # only display errors\n",
        "\n",
        "import gym_super_mario_bros\n",
        "from nes_py.wrappers import JoypadSpace\n",
        "from gym_super_mario_bros.actions import SIMPLE_MOVEMENT"
      ],
      "execution_count": 8,
      "outputs": []
    },
    {
      "cell_type": "markdown",
      "metadata": {
        "id": "mnE606x2lnKi"
      },
      "source": [
        "Now, the actual computational packages."
      ]
    },
    {
      "cell_type": "code",
      "metadata": {
        "id": "1n08L83tN9Ch"
      },
      "source": [
        "import math\n",
        "import random\n",
        "import numpy as np\n",
        "\n",
        "import torch\n",
        "import torch.nn as nn\n",
        "import torch.optim as optim\n",
        "import torch.nn.functional as F\n",
        "import torchvision.transforms as T"
      ],
      "execution_count": 9,
      "outputs": []
    },
    {
      "cell_type": "markdown",
      "metadata": {
        "id": "fi3jrXIvmH9V"
      },
      "source": [
        "and some python utilities"
      ]
    },
    {
      "cell_type": "code",
      "metadata": {
        "id": "lb22eL_qmNCC"
      },
      "source": [
        "from collections import namedtuple\n",
        "from itertools import count"
      ],
      "execution_count": 10,
      "outputs": []
    },
    {
      "cell_type": "markdown",
      "metadata": {
        "id": "RSOcBffN4X4G"
      },
      "source": [
        "and mounting the drive for saving models and loading modules"
      ]
    },
    {
      "cell_type": "code",
      "metadata": {
        "colab": {
          "base_uri": "https://localhost:8080/"
        },
        "id": "E7-mJBKgk9Gr",
        "outputId": "ac611168-ebd5-454c-80a0-2e6e0906612b"
      },
      "source": [
        "from google.colab import drive\n",
        "drive.mount('/content/gdrive')"
      ],
      "execution_count": 11,
      "outputs": [
        {
          "output_type": "stream",
          "text": [
            "Drive already mounted at /content/gdrive; to attempt to forcibly remount, call drive.mount(\"/content/gdrive\", force_remount=True).\n"
          ],
          "name": "stdout"
        }
      ]
    },
    {
      "cell_type": "code",
      "metadata": {
        "colab": {
          "base_uri": "https://localhost:8080/"
        },
        "id": "VI2tOT4AAz5F",
        "outputId": "de7e4e4c-4ff6-456b-8ba4-7766b48bac59"
      },
      "source": [
        "import sys\n",
        "sys.path.insert(0,'/content/gdrive/MyDrive/Colab Notebooks') #This needs to be the location you place Prioritized Memory files at\n",
        "!ls"
      ],
      "execution_count": 12,
      "outputs": [
        {
          "output_type": "stream",
          "text": [
            "gdrive\tsample_data  video\n"
          ],
          "name": "stdout"
        }
      ]
    },
    {
      "cell_type": "markdown",
      "metadata": {
        "id": "wkjsOTcG4Vuq"
      },
      "source": [
        "and some other set up"
      ]
    },
    {
      "cell_type": "code",
      "metadata": {
        "id": "9rOKlJS2-KMQ"
      },
      "source": [
        "# set up matplotlib\n",
        "is_ipython = 'inline' in matplotlib.get_backend()\n",
        "if is_ipython:\n",
        "    from IPython import display\n",
        "\n",
        "plt.ion()\n",
        "\n",
        "# if gpu is to be used\n",
        "device = torch.device(\"cuda\" if torch.cuda.is_available() else \"cpu\")"
      ],
      "execution_count": 13,
      "outputs": []
    },
    {
      "cell_type": "markdown",
      "metadata": {
        "id": "21qUO7Nnm_EF"
      },
      "source": [
        "##Environment Rendering"
      ]
    },
    {
      "cell_type": "code",
      "metadata": {
        "id": "8uv_2agZREDp"
      },
      "source": [
        "\"\"\"\n",
        "Utility functions to enable video recording of gym environment and displaying it\n",
        "To enable video, just do \"env = wrap_env(env)\"\"\n",
        "\"\"\"\n",
        "\n",
        "def show_video(i=-1):\n",
        "  mp4list = glob.glob('video/*.mp4')\n",
        "  print(mp4list)\n",
        "  if len(mp4list) > 0:\n",
        "    mp4 = mp4list[i]\n",
        "    video = io.open(mp4, 'r+b').read()\n",
        "    encoded = base64.b64encode(video)\n",
        "    ipythondisplay.display(HTML(data='''<video alt=\"test\" autoplay \n",
        "                loop controls style=\"height: 400px;\">\n",
        "                <source src=\"data:video/mp4;base64,{0}\" type=\"video/mp4\" />\n",
        "             </video>'''.format(encoded.decode('ascii'))))\n",
        "  else: \n",
        "    print(\"Could not find video\")\n",
        "    \n",
        "\n",
        "def wrap_env(env):\n",
        "  env = Monitor(env, './video', force=True)\n",
        "  return env"
      ],
      "execution_count": 14,
      "outputs": []
    },
    {
      "cell_type": "markdown",
      "metadata": {
        "id": "qY7Ks7BRnHoP"
      },
      "source": [
        "## Mario Environment"
      ]
    },
    {
      "cell_type": "code",
      "metadata": {
        "id": "BL46VHbqyrRe"
      },
      "source": [
        "if env_name == mario_env_name:\n",
        "    env = wrap_env(gym_super_mario_bros.make('SuperMarioBros-v2'))\n",
        "    env = JoypadSpace(env, SIMPLE_MOVEMENT)\n",
        "\n",
        "    def get_screen():\n",
        "        # Images comes as HWC, transpose to CHW\n",
        "        screen = env.render(mode='rgb_array').transpose((2, 0, 1))\n",
        "        # Normalize\n",
        "        screen = np.ascontiguousarray(screen, dtype=np.float32) / 255\n",
        "        screen = torch.from_numpy(screen)\n",
        "        # Add a batch dimension BCHW (required for convolutional layers)\n",
        "        return screen.unsqueeze(0).to(device)\n",
        "\n",
        "    env.reset()\n",
        "    plt.figure()\n",
        "    plt.imshow(get_screen().cpu().squeeze(0).permute(1, 2, 0).numpy(),\n",
        "            interpolation='none')\n",
        "    plt.title('Example extracted screen')\n",
        "    plt.show()"
      ],
      "execution_count": 15,
      "outputs": []
    },
    {
      "cell_type": "markdown",
      "metadata": {
        "id": "FCSkgbb1-UJ8"
      },
      "source": [
        "## Cartpole Environment"
      ]
    },
    {
      "cell_type": "code",
      "metadata": {
        "colab": {
          "base_uri": "https://localhost:8080/",
          "height": 213
        },
        "id": "KTzfoqKnDA11",
        "outputId": "34c36385-a206-4351-ed97-0cea23a48a2f"
      },
      "source": [
        "if env_name == cartpole_env_name:\n",
        "    env = gym.make('CartPole-v0').unwrapped\n",
        "    env = wrap_env(env)\n",
        "    resize = T.Compose([T.ToPILImage(),\n",
        "                        T.Resize(40, interpolation=Image.CUBIC),\n",
        "                        T.ToTensor()])\n",
        "\n",
        "\n",
        "    def get_cart_location(screen_width):\n",
        "        world_width = env.x_threshold * 2\n",
        "        scale = screen_width / world_width\n",
        "        return int(env.state[0] * scale + screen_width / 2.0)  # MIDDLE OF CART\n",
        "\n",
        "    def get_screen():\n",
        "        # Returned screen requested by gym is 400x600x3, but is sometimes larger\n",
        "        # such as 800x1200x3. Transpose it into torch order (CHW).\n",
        "        screen = env.render(mode='rgb_array').transpose((2, 0, 1))\n",
        "        # Cart is in the lower half, so strip off the top and bottom of the screen\n",
        "        _, screen_height, screen_width = screen.shape\n",
        "        screen = screen[:, int(screen_height*0.4):int(screen_height * 0.8)]\n",
        "        view_width = int(screen_width * 0.6)\n",
        "        cart_location = get_cart_location(screen_width)\n",
        "        if cart_location < view_width // 2:\n",
        "            slice_range = slice(view_width)\n",
        "        elif cart_location > (screen_width - view_width // 2):\n",
        "            slice_range = slice(-view_width, None)\n",
        "        else:\n",
        "            slice_range = slice(cart_location - view_width // 2,\n",
        "                                cart_location + view_width // 2)\n",
        "        # Strip off the edges, so that we have a square image centered on a cart\n",
        "        screen = screen[:, :, slice_range]\n",
        "        # Convert to float, rescale, convert to torch tensor\n",
        "        # (this doesn't require a copy)\n",
        "        screen = np.ascontiguousarray(screen, dtype=np.float32) / 255\n",
        "        screen = torch.from_numpy(screen)\n",
        "        # Resize, and add a batch dimension (BCHW)\n",
        "        return resize(screen).unsqueeze(0).to(device)\n",
        "\n",
        "\n",
        "    env.reset()\n",
        "    plt.figure()\n",
        "    plt.imshow(get_screen().cpu().squeeze(0).permute(1, 2, 0).numpy(),\n",
        "            interpolation='none')\n",
        "    plt.title('Example extracted screen')\n",
        "    plt.show()"
      ],
      "execution_count": 16,
      "outputs": [
        {
          "output_type": "display_data",
          "data": {
            "image/png": "[encoded data removed]",
            "text/plain": [
              "<Figure size 432x288 with 1 Axes>"
            ]
          },
          "metadata": {
            "tags": [],
            "needs_background": "light"
          }
        }
      ]
    },
    {
      "cell_type": "markdown",
      "metadata": {
        "id": "LECLGALmnOuv"
      },
      "source": [
        "## Agent in parts"
      ]
    },
    {
      "cell_type": "markdown",
      "metadata": {
        "id": "gqlfdiRknwtl"
      },
      "source": [
        "### Replay Memory\n"
      ]
    },
    {
      "cell_type": "code",
      "metadata": {
        "id": "ftIPGGvTn4Q9"
      },
      "source": [
        "from priority_memory import Memory\n",
        "Transition = namedtuple('Transition',\n",
        "                        ('state', 'action', 'next_state', 'reward', 'done'))\n",
        "\n",
        "\n",
        "class ReplayMemory(object):\n",
        "\n",
        "    def __init__(self, capacity):\n",
        "        self.capacity = capacity\n",
        "        self.memory = []\n",
        "        self.position = 0\n",
        "\n",
        "    def push(self, *args):\n",
        "        \"\"\"Saves a transition.\"\"\"\n",
        "        if len(self.memory) < self.capacity:\n",
        "            self.memory.append(None)\n",
        "        self.memory[self.position] = Transition(*args)\n",
        "        self.position = (self.position + 1) % self.capacity\n",
        "\n",
        "    def sample(self, batch_size):\n",
        "        return random.sample(self.memory, batch_size)\n",
        "\n",
        "    def __len__(self):\n",
        "        return len(self.memory)\n",
        "\n",
        "class PrioritizedMemory(Memory):\n",
        "    def __init__(self, capacity, dqn):\n",
        "      super().__init__(capacity)\n",
        "      self.dqn = dqn\n",
        "\n",
        "    def push(self, *args):\n",
        "      transition = Transition(*args)\n",
        "      target = self.dqn.online_model(transition.state).data\n",
        "      old_val = target[0][transition.action]\n",
        "      if transition.done:\n",
        "          target[0][transition.action] = transition.reward.type(torch.float32)\n",
        "      else:\n",
        "          target_val = self.dqn.target_model(transition.next_state).data\n",
        "          target[0][transition.action] = transition.reward + GAMMA * torch.max(target_val)\n",
        "      error = abs(old_val - target[0][transition.action])\n",
        "      self.add(error.item(), transition)\n",
        "    # sample and len are defined in super class Memory\n",
        "\n",
        "    "
      ],
      "execution_count": 17,
      "outputs": []
    },
    {
      "cell_type": "markdown",
      "metadata": {
        "id": "xr07pe40oNmB"
      },
      "source": [
        "###Models: DQN, Dueling DQN"
      ]
    },
    {
      "cell_type": "code",
      "metadata": {
        "id": "hdvhyjAeq4sy"
      },
      "source": [
        "# Helper for calculating kernel size after a convolution\n",
        "def conv2d_size_out(size, kernel_size = 5, stride = 2):\n",
        "    return (size - (kernel_size - 1) - 1) // stride  + 1"
      ],
      "execution_count": 18,
      "outputs": []
    },
    {
      "cell_type": "markdown",
      "metadata": {
        "id": "QgAXPrJ6oMuF"
      },
      "source": [
        "####DQN"
      ]
    },
    {
      "cell_type": "code",
      "metadata": {
        "id": "stDT2dENoitO"
      },
      "source": [
        "class DQN(nn.Module):\n",
        "    # h, w: height and width of the input image\n",
        "    # outputs: the number of outputs, corresponds to the size of the action space\n",
        "    def __init__(self, h, w, outputs):\n",
        "        super(DQN, self).__init__()\n",
        "\n",
        "        self.conv = nn.Sequential(\n",
        "            nn.Conv2d(3, 16, kernel_size=5, stride=2),\n",
        "            nn.BatchNorm2d(16),\n",
        "            nn.ReLU(),\n",
        "            nn.Conv2d(16, 32, kernel_size=5, stride=2),\n",
        "            nn.BatchNorm2d(32),\n",
        "            nn.ReLU(),\n",
        "            nn.Conv2d(32, 32, kernel_size=5, stride=2),\n",
        "            nn.BatchNorm2d(32),\n",
        "            nn.ReLU()\n",
        "        )\n",
        "\n",
        "        convw = conv2d_size_out(conv2d_size_out(conv2d_size_out(w)))\n",
        "        convh = conv2d_size_out(conv2d_size_out(conv2d_size_out(h)))\n",
        "        linear_input_size = convw * convh * 32\n",
        "\n",
        "        self.fc = nn.Linear(linear_input_size, outputs)\n",
        "\n",
        "    # Returns a score for each action in the current state\n",
        "    # State x is assumed to be a 3 channel image\n",
        "    def forward(self, x):\n",
        "        conv_out = self.conv(x)\n",
        "        # Make each item in the batch a single row vec\n",
        "        return self.fc(conv_out.view(conv_out.size(0), -1))"
      ],
      "execution_count": 19,
      "outputs": []
    },
    {
      "cell_type": "markdown",
      "metadata": {
        "id": "XZ83SFHbHYPP"
      },
      "source": [
        "#### Dueling DQN"
      ]
    },
    {
      "cell_type": "code",
      "metadata": {
        "id": "hRqlnLRMHWKI"
      },
      "source": [
        "class DuelingDQN(nn.Module):\n",
        "    # h, w: height and width of the input image\n",
        "    # outputs: the number of outputs, corresponds to the size of the action space\n",
        "    def __init__(self, h, w, outputs):\n",
        "        super(DuelingDQN, self).__init__()\n",
        "        self.outputs = outputs\n",
        "\n",
        "        self.conv = nn.Sequential(\n",
        "            nn.Conv2d(3, 16, kernel_size=5, stride=2),\n",
        "            nn.BatchNorm2d(16),\n",
        "            nn.ReLU(),\n",
        "            nn.Conv2d(16, 32, kernel_size=5, stride=2),\n",
        "            nn.BatchNorm2d(32),\n",
        "            nn.ReLU(),\n",
        "            nn.Conv2d(32, 32, kernel_size=5, stride=2),\n",
        "            nn.BatchNorm2d(32),\n",
        "            nn.ReLU()\n",
        "        )\n",
        "\n",
        "        convw = conv2d_size_out(conv2d_size_out(conv2d_size_out(w)))\n",
        "        convh = conv2d_size_out(conv2d_size_out(conv2d_size_out(h)))\n",
        "        linear_input_size = convw * convh * 32\n",
        "\n",
        "        # Multiple values corresponding to actions\n",
        "        self.advantage = nn.Sequential(\n",
        "            nn.Linear(linear_input_size, 256),\n",
        "            nn.ReLU(),\n",
        "            nn.Linear(256, outputs)\n",
        "        )\n",
        "\n",
        "        # A single value corresponding to the state\n",
        "        self.value = nn.Sequential(\n",
        "            nn.Linear(linear_input_size, 256),\n",
        "            nn.ReLU(),\n",
        "            nn.Linear(256, 1)\n",
        "        )\n",
        "\n",
        "    # Returns a score for each action in the current state\n",
        "    # State x is assumed to be a 3 channel image\n",
        "    def forward(self, x):\n",
        "        conv_out = self.conv(x)\n",
        "        # Make each item in the batch a single row vec\n",
        "        conv_out = conv_out.view(conv_out.size(0), -1)\n",
        "\n",
        "        value = self.value(conv_out).expand(x.size(0), self.outputs)\n",
        "        adv = self.advantage(conv_out)\n",
        "\n",
        "        # value = self.fc2_value(value).expand(x.size(0), self.outputs)\n",
        "\n",
        "        advAverage = adv.mean(1).unsqueeze(1).expand(x.size(0), self.outputs)\n",
        "        Q = value + adv - advAverage\n",
        "\n",
        "        return Q"
      ],
      "execution_count": 20,
      "outputs": []
    },
    {
      "cell_type": "markdown",
      "metadata": {
        "id": "DzF4rVzmArvc"
      },
      "source": [
        "### Hyper Parameters"
      ]
    },
    {
      "cell_type": "code",
      "metadata": {
        "id": "BwaY2u5vAwwy"
      },
      "source": [
        "# Hyper params\n",
        "BATCH_SIZE = 128\n",
        "# Discount of future rewards\n",
        "GAMMA = 0.999\n",
        "# Epsilon greedy exploration\n",
        "EPS_START = 0.9\n",
        "EPS_END = 0.01\n",
        "EPS_DECAY = 100 # 5000 good for 100k\n",
        "# Rate of target (frozen) model weight updates\n",
        "TARGET_UPDATE = 100\n",
        "MEMORY_SIZE = 10000"
      ],
      "execution_count": 21,
      "outputs": []
    },
    {
      "cell_type": "code",
      "metadata": {
        "id": "S1Hl5i6SBBgM"
      },
      "source": [
        "# Computes threshold based on the current step\n",
        "def get_epsilon_threshold(step):\n",
        "    return EPS_END + (EPS_START - EPS_END) * \\\n",
        "        math.exp(-1. * step / EPS_DECAY)"
      ],
      "execution_count": 22,
      "outputs": []
    },
    {
      "cell_type": "code",
      "metadata": {
        "colab": {
          "base_uri": "https://localhost:8080/",
          "height": 283
        },
        "id": "MHZmSyGmBQ7w",
        "outputId": "c2c568ad-d131-4e85-cec7-cb6977e4fabe"
      },
      "source": [
        "# Show how epsion will decay\n",
        "steps = np.linspace(0, 1000)\n",
        "fig = plt.figure()\n",
        "plt.plot(steps, [get_epsilon_threshold(step) for step in steps])"
      ],
      "execution_count": 23,
      "outputs": [
        {
          "output_type": "execute_result",
          "data": {
            "text/plain": [
              "[<matplotlib.lines.Line2D at 0x7f29b00e8588>]"
            ]
          },
          "metadata": {
            "tags": []
          },
          "execution_count": 23
        },
        {
          "output_type": "display_data",
          "data": {
            "image/png": "[encoded data removed]",
            "text/plain": [
              "<Figure size 432x288 with 1 Axes>"
            ]
          },
          "metadata": {
            "tags": [],
            "needs_background": "light"
          }
        }
      ]
    },
    {
      "cell_type": "markdown",
      "metadata": {
        "id": "6JAzciJJCp6u"
      },
      "source": [
        "### Agent Body"
      ]
    },
    {
      "cell_type": "code",
      "metadata": {
        "id": "rYUTRc96m06d"
      },
      "source": [
        "class Agent():\n",
        "    def __init__(self, env, dueling_DQN = True, DDQN = True, PER = True):\n",
        "        # TODO: init from saved model weights like online_model.load_state_dict(torch.load(path))\n",
        "        # TODO: too much stuff in initializer?\n",
        "\n",
        "        # Maybe it shouldn't be here\n",
        "        self.env = env\n",
        "\n",
        "        _, _, h, w = get_screen().shape\n",
        "        # Target is the offline network that stays frozen and gets updated\n",
        "        # every TARGET_UPDATE\n",
        "        if dueling_DQN:\n",
        "            self.online_model = Dueling_DQN(h, w, env.action_space.n)\n",
        "            self.target_model = Dueling_DQN(h, w, env.action_space.n)\n",
        "        else:\n",
        "            self.online_model = DQN(h, w, env.action_space.n)\n",
        "            self.target_model = DQN(h, w, env.action_space.n)\n",
        "        self.target_model.load_state_dict(self.online_model.state_dict())\n",
        "        self.online_model = self.online_model.to(device)\n",
        "        self.target_model = self.target_model.to(device)\n",
        "            \n",
        "        self.optimizer = optim.RMSprop(self.online_model.parameters())\n",
        "\n",
        "        self.DDQN = DDQN\n",
        "        self.PER = PER\n",
        "\n",
        "        if self.PER:\n",
        "            self.memory = PrioritizedMemory(MEMORY_SIZE, self)\n",
        "        else:\n",
        "            self.memory = ReplayMemory(MEMORY_SIZE)\n",
        "\n",
        "        # Keep track to adjust exploration (epsion) and update target model\n",
        "        self.steps_done = 0\n",
        "\n",
        "        # Save model weights at these intervals\n",
        "        self.save_interval = 1000\n",
        "\n",
        "    # Makes model good\n",
        "    def optimize_model(self):\n",
        "        # TODO: I assume PER is involved here as well\n",
        "        if len(self.memory) < BATCH_SIZE:\n",
        "            return\n",
        "        if self.PER:\n",
        "            transitions, idxs, is_weights = self.memory.sample(BATCH_SIZE)\n",
        "        else:\n",
        "            transitions = self.memory.sample(BATCH_SIZE)\n",
        "        # This converts batch-array of Transitions to Transition of batch-arrays.\n",
        "        batch = Transition(*zip(*transitions))\n",
        "\n",
        "        # Compute a mask of non-final states and concatenate the batch elements\n",
        "        # (a final state would've been the one after which simulation ended)\n",
        "        non_final_mask = torch.tensor(tuple(map(lambda s: s is not None,\n",
        "                                            batch.next_state)), device=device, dtype=torch.bool)\n",
        "        non_final_next_states = torch.cat([s for s in batch.next_state if s is not None])\n",
        "        state_batch = torch.cat(batch.state)\n",
        "        action_batch = torch.cat(batch.action)\n",
        "        reward_batch = torch.cat(batch.reward)\n",
        "\n",
        "        if self.DDQN:\n",
        "            # Compute: Reward + (Gamma * max_wrt_actions(Q_target(s_t+1, arg_max_wrt_actions(Q_online(s_t+1, a)))))\n",
        "            # 1. arg_max_wrt_actions(Q_online(s_t+1, a))\n",
        "            online_action_inds = self.online_model(non_final_next_states).argmax(1)\n",
        "            # 2. Q_target(s_t+1, all_actions)\n",
        "            target_all_action_q = self.target_model(non_final_next_states)\n",
        "            # 3. Q_target(s_t+1, arg_max_wrt_actions(Q_online(s_t+1, a)))\n",
        "            target_state_action_q = torch.zeros(BATCH_SIZE, device=device)\n",
        "            target_state_action_q[non_final_mask] = target_all_action_q.gather(1, online_action_inds.unsqueeze(-1))[0].detach()\n",
        "            # 4. Reward + (Gamma * max_wrt_actions(Q_target(s_t+1, arg_max_wrt_actions(Q_online(s_t+1, a)))))\n",
        "            target_state_action_q = (target_state_action_q * GAMMA) + reward_batch\n",
        "\n",
        "        else:\n",
        "            # Compute: Reward + (Gamma * max_wrt_actions(Q_target(s_t+1, a)))\n",
        "            # 1. max_wrt_actions(Q_target(s_t+1, a))\n",
        "            target_state_action_q = torch.zeros(BATCH_SIZE, device=device)\n",
        "            target_state_action_q[non_final_mask] = self.target_model(non_final_next_states).max(1)[0].detach()\n",
        "            # 2. Reward + (Gamma * max_wrt_actions(Q_target(s_t+1, a)))\n",
        "            target_state_action_q = (target_state_action_q * GAMMA) + reward_batch\n",
        "            \n",
        "        # Compute Q(s_t, a) and select Q values corresponding to the taken actions.\n",
        "        online_state_action_q = self.online_model(state_batch).gather(1, action_batch)\n",
        "\n",
        "        # Compute Huber loss\n",
        "        loss = F.smooth_l1_loss(online_state_action_q, target_state_action_q.unsqueeze(1))\n",
        "\n",
        "        #update prioritized memory\n",
        "        if self.PER:\n",
        "            errors = torch.abs(target_state_action_q.unsqueeze(1) - online_state_action_q).cpu().detach().numpy()\n",
        "            for i in range(BATCH_SIZE):\n",
        "                idx = idxs[i]\n",
        "                self.memory.update(idx, errors[i])\n",
        "            loss = (loss * torch.tensor(is_weights, dtype=torch.float32, device=device)).mean()\n",
        "        \n",
        "        # Optimize the model\n",
        "        self.optimizer.zero_grad()\n",
        "        loss.backward()\n",
        "        for param in self.online_model.parameters():\n",
        "            param.grad.data.clamp_(-1, 1)\n",
        "        self.optimizer.step()\n",
        "\n",
        "\n",
        "    # Uses epsilon greedy with annealing: chances of choosing a random action are\n",
        "    # high in the beginning, but get lower further into training\n",
        "    # TODO: try reward based epsilon decay https://aakash94.github.io/Reward-Based-Epsilon-Decay/\n",
        "    def select_action(self, state):\n",
        "        self.steps_done += 1\n",
        "\n",
        "        if (self.steps_done % TARGET_UPDATE == 0):\n",
        "            self.update_target_model()\n",
        "        if (self.steps_done % self.save_interval == 0):\n",
        "            self.save_model()\n",
        "\n",
        "        if random.random() > get_epsilon_threshold(self.steps_done):\n",
        "            with torch.no_grad():\n",
        "                # Pick action with the largest expected reward\n",
        "                return self.online_model(state).max(1)[1].view(1, 1)\n",
        "        else:\n",
        "            # return torch.tensor([[random.randrange(n_actions)]], device=device, dtype=torch.long)\n",
        "            return torch.tensor([[env.action_space.sample()]], device=device, dtype=torch.long)\n",
        "\n",
        "    def save_model(self, model_name=\"Mario_RL.pt\"):\n",
        "        # TODO: don't overwrite models, save other info like graphs?\n",
        "        path = f\"/content/gdrive/My Drive/{model_name}\"\n",
        "        torch.save(self.online_model.state_dict(), path)\n",
        "\n",
        "    def update_target_model(self):\n",
        "        self.target_model.load_state_dict(self.online_model.state_dict())\n",
        "\n",
        "    def remember(self, transition):\n",
        "        # transition is: (state, action, next_state, reward, done)\n",
        "        self.memory.push(*transition)\n",
        "\n"
      ],
      "execution_count": 24,
      "outputs": []
    },
    {
      "cell_type": "markdown",
      "metadata": {
        "id": "ySjIsO0kpZkV"
      },
      "source": [
        "### Training\n"
      ]
    },
    {
      "cell_type": "code",
      "metadata": {
        "id": "tgEDWypppdzk"
      },
      "source": [
        "episode_durations = []\n",
        "\n",
        "def plot_durations():\n",
        "    plt.figure(2)\n",
        "    plt.clf()\n",
        "    durations_t = torch.tensor(episode_durations, dtype=torch.float)\n",
        "    plt.title('Training...')\n",
        "    plt.xlabel('Episode')\n",
        "    plt.ylabel('Duration (steps)')\n",
        "    plt.plot(durations_t.numpy())\n",
        "    # Take 100 episode averages and plot them too\n",
        "    if len(durations_t) >= 100:\n",
        "        means = durations_t.unfold(0, 100, 1).mean(1).view(-1)\n",
        "        means = torch.cat((torch.zeros(99), means))\n",
        "        plt.plot(means.numpy())\n",
        "\n",
        "    plt.pause(0.001)  # pause a bit so that plots are updated\n",
        "    if is_ipython:\n",
        "        display.display(plt.gcf())\n",
        "        display.clear_output(wait=True)"
      ],
      "execution_count": 25,
      "outputs": []
    },
    {
      "cell_type": "markdown",
      "metadata": {
        "id": "ItBMjkRQtjFO"
      },
      "source": [
        "###Training loop\n"
      ]
    },
    {
      "cell_type": "markdown",
      "metadata": {
        "id": "NRl75VGNtoQ7"
      },
      "source": [
        "Below, you can find the main training loop. At the beginning we reset\n",
        "the environment and initialize the ``state`` Tensor. Then, we sample\n",
        "an action, execute it, observe the next screen and the reward (always\n",
        "1), and optimize our model once. When the episode ends (our model\n",
        "fails), we restart the loop.\n",
        "\n",
        "Below, `num_episodes` is set small. You should download\n",
        "the notebook and run lot more epsiodes, such as 300+ for meaningful\n",
        "duration improvements.\n",
        "\n",
        "\n"
      ]
    },
    {
      "cell_type": "code",
      "metadata": {
        "id": "Mf0EDuFmVwvz"
      },
      "source": [
        "agent = Agent(env, False, False, True)"
      ],
      "execution_count": 26,
      "outputs": []
    },
    {
      "cell_type": "code",
      "metadata": {
        "colab": {
          "base_uri": "https://localhost:8080/",
          "height": 393
        },
        "id": "67Oj7wqEtrOb",
        "outputId": "20a615a1-c226-4b8e-8527-4d4c20e9968e"
      },
      "source": [
        "num_episodes = 1000\n",
        "\n",
        "for i_episode in range(num_episodes):\n",
        "    # Initialize the environment and state\n",
        "    env.reset()\n",
        "    env.render()\n",
        "\n",
        "    if env_name == mario_env_name:\n",
        "        state = get_screen()\n",
        "    else:\n",
        "        # CartPole needs to capture motion\n",
        "        last_screen = get_screen()\n",
        "        current_screen = get_screen()\n",
        "        state = current_screen - last_screen\n",
        "\n",
        "    for t in count():\n",
        "        # Select and perform an action\n",
        "        action = agent.select_action(state)\n",
        "        next_state, reward, done, _ = env.step(action.item())\n",
        "        # Give negative reward for losing the game\n",
        "        # TODO: works for cartpole but Mario??\n",
        "        reward = reward if not done or t == 499 else -10\n",
        "        reward = torch.tensor([reward], device=device)\n",
        "\n",
        "        # Observe new state\n",
        "        if env_name == cartpole_env_name:\n",
        "            last_screen = current_screen\n",
        "            current_screen = get_screen()\n",
        "            if not done:\n",
        "                next_state = current_screen - last_screen\n",
        "            else:\n",
        "                next_state = None\n",
        "\n",
        "        # Store the transition in memory\n",
        "        agent.remember((state, action, next_state, reward, done))\n",
        "\n",
        "        # Move to the next state\n",
        "        state = next_state\n",
        "\n",
        "        # Perform one step of the optimization (on the target network)\n",
        "        agent.optimize_model()\n",
        "        if done:\n",
        "            episode_durations.append(t + 1)\n",
        "            plot_durations()\n",
        "            break\n",
        "\n",
        "print('Complete')\n",
        "env.close()\n",
        "plt.ioff()\n",
        "plt.show()\n",
        "show_video()"
      ],
      "execution_count": 27,
      "outputs": [
        {
          "output_type": "error",
          "ename": "TypeError",
          "evalue": "ignored",
          "traceback": [
            "\u001b[0;31m---------------------------------------------------------------------------\u001b[0m",
            "\u001b[0;31mTypeError\u001b[0m                                 Traceback (most recent call last)",
            "\u001b[0;32m<ipython-input-27-aa4b3d42e4bf>\u001b[0m in \u001b[0;36m<module>\u001b[0;34m()\u001b[0m\n\u001b[1;32m     39\u001b[0m \u001b[0;34m\u001b[0m\u001b[0m\n\u001b[1;32m     40\u001b[0m         \u001b[0;31m# Perform one step of the optimization (on the target network)\u001b[0m\u001b[0;34m\u001b[0m\u001b[0;34m\u001b[0m\u001b[0;34m\u001b[0m\u001b[0m\n\u001b[0;32m---> 41\u001b[0;31m         \u001b[0magent\u001b[0m\u001b[0;34m.\u001b[0m\u001b[0moptimize_model\u001b[0m\u001b[0;34m(\u001b[0m\u001b[0;34m)\u001b[0m\u001b[0;34m\u001b[0m\u001b[0;34m\u001b[0m\u001b[0m\n\u001b[0m\u001b[1;32m     42\u001b[0m         \u001b[0;32mif\u001b[0m \u001b[0mdone\u001b[0m\u001b[0;34m:\u001b[0m\u001b[0;34m\u001b[0m\u001b[0;34m\u001b[0m\u001b[0m\n\u001b[1;32m     43\u001b[0m             \u001b[0mepisode_durations\u001b[0m\u001b[0;34m.\u001b[0m\u001b[0mappend\u001b[0m\u001b[0;34m(\u001b[0m\u001b[0mt\u001b[0m \u001b[0;34m+\u001b[0m \u001b[0;36m1\u001b[0m\u001b[0;34m)\u001b[0m\u001b[0;34m\u001b[0m\u001b[0;34m\u001b[0m\u001b[0m\n",
            "\u001b[0;32m<ipython-input-24-9c8ebc9f1b42>\u001b[0m in \u001b[0;36moptimize_model\u001b[0;34m(self)\u001b[0m\n\u001b[1;32m     46\u001b[0m             \u001b[0mtransitions\u001b[0m \u001b[0;34m=\u001b[0m \u001b[0mself\u001b[0m\u001b[0;34m.\u001b[0m\u001b[0mmemory\u001b[0m\u001b[0;34m.\u001b[0m\u001b[0msample\u001b[0m\u001b[0;34m(\u001b[0m\u001b[0mBATCH_SIZE\u001b[0m\u001b[0;34m)\u001b[0m\u001b[0;34m\u001b[0m\u001b[0;34m\u001b[0m\u001b[0m\n\u001b[1;32m     47\u001b[0m         \u001b[0;31m# This converts batch-array of Transitions to Transition of batch-arrays.\u001b[0m\u001b[0;34m\u001b[0m\u001b[0;34m\u001b[0m\u001b[0;34m\u001b[0m\u001b[0m\n\u001b[0;32m---> 48\u001b[0;31m         \u001b[0mbatch\u001b[0m \u001b[0;34m=\u001b[0m \u001b[0mTransition\u001b[0m\u001b[0;34m(\u001b[0m\u001b[0;34m*\u001b[0m\u001b[0mzip\u001b[0m\u001b[0;34m(\u001b[0m\u001b[0;34m*\u001b[0m\u001b[0mtransitions\u001b[0m\u001b[0;34m)\u001b[0m\u001b[0;34m)\u001b[0m\u001b[0;34m\u001b[0m\u001b[0;34m\u001b[0m\u001b[0m\n\u001b[0m\u001b[1;32m     49\u001b[0m \u001b[0;34m\u001b[0m\u001b[0m\n\u001b[1;32m     50\u001b[0m         \u001b[0;31m# Compute a mask of non-final states and concatenate the batch elements\u001b[0m\u001b[0;34m\u001b[0m\u001b[0;34m\u001b[0m\u001b[0;34m\u001b[0m\u001b[0m\n",
            "\u001b[0;31mTypeError\u001b[0m: zip argument #128 must support iteration"
          ]
        },
        {
          "output_type": "display_data",
          "data": {
            "text/plain": [
              "<Figure size 432x288 with 0 Axes>"
            ]
          },
          "metadata": {
            "tags": []
          }
        }
      ]
    }
  ]
}